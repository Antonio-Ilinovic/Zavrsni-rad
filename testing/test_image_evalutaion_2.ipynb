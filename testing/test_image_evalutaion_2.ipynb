{
 "cells": [
  {
   "cell_type": "code",
   "execution_count": 1,
   "outputs": [],
   "source": [
    "import evaluate\n",
    "import Utils\n",
    "import network\n",
    "\n",
    "import numpy as np"
   ],
   "metadata": {
    "collapsed": false,
    "pycharm": {
     "name": "#%%\n"
    }
   }
  },
  {
   "cell_type": "code",
   "execution_count": 10,
   "outputs": [],
   "source": [
    "image_num = 180\n",
    "model = network.Conv64Features()\n",
    "model.to('cpu').eval()\n",
    "D = 50"
   ],
   "metadata": {
    "collapsed": false,
    "pycharm": {
     "name": "#%%\n"
    }
   }
  },
  {
   "cell_type": "code",
   "execution_count": 11,
   "outputs": [],
   "source": [
    "# dohvati slike\n",
    "left = Utils.get_left_image(image_num)\n",
    "right = Utils.get_right_image(image_num)"
   ],
   "metadata": {
    "collapsed": false,
    "pycharm": {
     "name": "#%%\n"
    }
   }
  },
  {
   "cell_type": "code",
   "execution_count": 12,
   "outputs": [],
   "source": [
    "# pretvori slike za ulaz u model\n",
    "left_model_input = evaluate.transform_image_for_model(left)\n",
    "right_model_input = evaluate.transform_image_for_model(right)"
   ],
   "metadata": {
    "collapsed": false,
    "pycharm": {
     "name": "#%%\n"
    }
   }
  },
  {
   "cell_type": "code",
   "execution_count": 13,
   "outputs": [],
   "source": [
    "# provuci slike kroz model i pretvori ih u prikladni ndarray\n",
    "left_output = evaluate.transform_model_output_to_ndarray(model(left_model_input))\n",
    "right_output = evaluate.transform_model_output_to_ndarray(model(right_model_input))"
   ],
   "metadata": {
    "collapsed": false,
    "pycharm": {
     "name": "#%%\n"
    }
   }
  },
  {
   "cell_type": "code",
   "execution_count": 14,
   "outputs": [],
   "source": [
    "similarities_at_all_D_disparities = np.stack([evaluate.similarity_at_d(left_output, right_output, d) for d in range(D)], axis=2)"
   ],
   "metadata": {
    "collapsed": false,
    "pycharm": {
     "name": "#%%\n"
    }
   }
  },
  {
   "cell_type": "code",
   "execution_count": 15,
   "outputs": [],
   "source": [
    "similarity_at_1 = evaluate.similarity_at_d(left_output, right_output, 1)"
   ],
   "metadata": {
    "collapsed": false,
    "pycharm": {
     "name": "#%%\n"
    }
   }
  },
  {
   "cell_type": "code",
   "execution_count": 16,
   "outputs": [
    {
     "data": {
      "text/plain": "(376, 1241, 50)"
     },
     "execution_count": 16,
     "metadata": {},
     "output_type": "execute_result"
    }
   ],
   "source": [
    "similarities_at_all_D_disparities.shape"
   ],
   "metadata": {
    "collapsed": false,
    "pycharm": {
     "name": "#%%\n"
    }
   }
  },
  {
   "cell_type": "code",
   "execution_count": 17,
   "outputs": [
    {
     "data": {
      "text/plain": "array([[ 1,  2,  3, ...,  2,  3,  4],\n       [ 1,  2,  3, ...,  2,  3,  3],\n       [ 1,  2,  3, ...,  2,  3,  3],\n       ...,\n       [ 1,  2,  3, ..., 30, 31, 31],\n       [ 1,  2,  3, ..., 21, 31, 31],\n       [ 1,  2,  3, ..., 21, 32, 31]], dtype=int64)"
     },
     "execution_count": 17,
     "metadata": {},
     "output_type": "execute_result"
    }
   ],
   "source": [
    "np.argmin(similarities_at_all_D_disparities, axis=2)"
   ],
   "metadata": {
    "collapsed": false,
    "pycharm": {
     "name": "#%%\n"
    }
   }
  },
  {
   "cell_type": "code",
   "execution_count": 40,
   "outputs": [],
   "source": [
    "simil = np.array(\n",
    "[\n",
    "    [ # row 0\n",
    "        [ # col 0\n",
    "            0, 5, 5\n",
    "        ],\n",
    "        [ # col 1\n",
    "            0, 5, 5\n",
    "        ]\n",
    "    ],\n",
    "    [ # row 1\n",
    "        [ # col 0\n",
    "            5, 0, 5\n",
    "        ],\n",
    "        [ # col 1\n",
    "            5, 5, 0\n",
    "        ]\n",
    "    ]\n",
    "])"
   ],
   "metadata": {
    "collapsed": false,
    "pycharm": {
     "name": "#%%\n"
    }
   }
  },
  {
   "cell_type": "code",
   "execution_count": 43,
   "outputs": [
    {
     "data": {
      "text/plain": "array([[[0, 5, 5],\n        [0, 5, 5]],\n\n       [[5, 0, 5],\n        [5, 5, 0]]])"
     },
     "execution_count": 43,
     "metadata": {},
     "output_type": "execute_result"
    }
   ],
   "source": [
    "simil"
   ],
   "metadata": {
    "collapsed": false,
    "pycharm": {
     "name": "#%%\n"
    }
   }
  },
  {
   "cell_type": "code",
   "execution_count": 45,
   "outputs": [
    {
     "data": {
      "text/plain": "array([[0, 0],\n       [1, 2]], dtype=int64)"
     },
     "execution_count": 45,
     "metadata": {},
     "output_type": "execute_result"
    }
   ],
   "source": [
    "# nakon argmin treba se dobiti array:\n",
    "# [[0, 0],\n",
    "#  [1, 2]]\n",
    "\n",
    "simil_argmin = np.argmin(simil, axis=2)\n",
    "simil_argmin"
   ],
   "metadata": {
    "collapsed": false,
    "pycharm": {
     "name": "#%%\n"
    }
   }
  }
 ],
 "metadata": {
  "kernelspec": {
   "display_name": "Python 3",
   "language": "python",
   "name": "python3"
  },
  "language_info": {
   "codemirror_mode": {
    "name": "ipython",
    "version": 2
   },
   "file_extension": ".py",
   "mimetype": "text/x-python",
   "name": "python",
   "nbconvert_exporter": "python",
   "pygments_lexer": "ipython2",
   "version": "2.7.6"
  }
 },
 "nbformat": 4,
 "nbformat_minor": 0
}