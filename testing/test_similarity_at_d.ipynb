{
 "cells": [
  {
   "cell_type": "code",
   "execution_count": 7,
   "outputs": [],
   "source": [
    "import evaluate\n",
    "import Utils\n",
    "import network\n",
    "import numpy as np"
   ],
   "metadata": {
    "collapsed": false,
    "pycharm": {
     "name": "#%%\n"
    }
   }
  },
  {
   "cell_type": "code",
   "execution_count": 25,
   "outputs": [],
   "source": [
    "image_num = 180\n",
    "model = network.Conv64Features()\n",
    "D=2"
   ],
   "metadata": {
    "collapsed": false,
    "pycharm": {
     "name": "#%%\n"
    }
   }
  },
  {
   "cell_type": "code",
   "execution_count": 26,
   "outputs": [],
   "source": [
    "# metoda vraća predikciju mape dispariteta\n",
    "model.to('cpu').eval()\n",
    "# dohvati slike\n",
    "left = Utils.get_left_image(image_num)\n",
    "right = Utils.get_right_image(image_num)\n",
    "# pretvori slike za ulaz u model\n",
    "left_model_input = evaluate.transform_image_for_model(left)\n",
    "right_model_input = evaluate.transform_image_for_model(right)\n",
    "# provuci slike kroz model i pretvori ih u prikladni ndarray\n",
    "left_output = evaluate.transform_model_output_to_ndarray(model(left_model_input))\n",
    "right_output = evaluate.transform_model_output_to_ndarray(model(right_model_input))"
   ],
   "metadata": {
    "collapsed": false,
    "pycharm": {
     "name": "#%%\n"
    }
   }
  },
  {
   "cell_type": "code",
   "execution_count": 27,
   "metadata": {
    "collapsed": true
   },
   "outputs": [],
   "source": [
    "def similarity_at_d(left_output, right_output, d):\n",
    "    # ndarray[HxWxC] -> ndarray[HxW]\n",
    "\n",
    "    # metoda prima outpute modela lijeve i desne slike.\n",
    "    # Vraća sličnost lijeve i desne slike. Desna slika je pomaknuta za disparitet d.\n",
    "    shifted_right_output = np.roll(right_output, d, axis=1)\n",
    "    return np.sum(left_output * shifted_right_output, axis=2)"
   ]
  },
  {
   "cell_type": "code",
   "execution_count": 28,
   "outputs": [],
   "source": [
    "left_output_custom = np.array([\n",
    "    [[1,2],\n",
    "     [2,2],\n",
    "     [3,2]],\n",
    "    [[4,3],\n",
    "     [5,3],\n",
    "     [6,3]]\n",
    "])\n",
    "right_output_custom = np.array([\n",
    "    [[1,2],\n",
    "     [2,2],\n",
    "     [3,2]],\n",
    "    [[4,3],\n",
    "     [5,3],\n",
    "     [6,3]]\n",
    "])"
   ],
   "metadata": {
    "collapsed": false,
    "pycharm": {
     "name": "#%%\n"
    }
   }
  },
  {
   "cell_type": "code",
   "execution_count": 29,
   "outputs": [],
   "source": [
    "similarity_at_0 = similarity_at_d(left_output_custom, right_output_custom, 0)"
   ],
   "metadata": {
    "collapsed": false,
    "pycharm": {
     "name": "#%%\n"
    }
   }
  },
  {
   "cell_type": "code",
   "execution_count": 30,
   "outputs": [
    {
     "data": {
      "text/plain": "array([[ 5,  8, 13],\n       [25, 34, 45]])"
     },
     "execution_count": 30,
     "metadata": {},
     "output_type": "execute_result"
    }
   ],
   "source": [
    "similarity_at_0"
   ],
   "metadata": {
    "collapsed": false,
    "pycharm": {
     "name": "#%%\n"
    }
   }
  },
  {
   "cell_type": "code",
   "execution_count": 31,
   "outputs": [],
   "source": [
    "similarity_at_1 = similarity_at_d(left_output_custom, right_output_custom, 1)"
   ],
   "metadata": {
    "collapsed": false,
    "pycharm": {
     "name": "#%%\n"
    }
   }
  },
  {
   "cell_type": "code",
   "execution_count": 32,
   "outputs": [
    {
     "data": {
      "text/plain": "array([[ 7,  6, 10],\n       [33, 29, 39]])"
     },
     "execution_count": 32,
     "metadata": {},
     "output_type": "execute_result"
    }
   ],
   "source": [
    "similarity_at_1"
   ],
   "metadata": {
    "collapsed": false,
    "pycharm": {
     "name": "#%%\n"
    }
   }
  },
  {
   "cell_type": "code",
   "execution_count": 33,
   "outputs": [],
   "source": [
    "# testiramo implementaciju predict_disp_map, D=2, što znači da će d biti 0 i 1\n",
    "\n",
    "# ndarray[HxWxD]\n",
    "similarities_at_all_D_disparities = np.stack([similarity_at_d(left_output_custom, right_output_custom, d) for d in range(D)], axis=2)\n",
    "\n",
    "# ndarray[HxW]\n",
    "predicted_disparity_map = np.argmin(similarities_at_all_D_disparities, axis=2)"
   ],
   "metadata": {
    "collapsed": false,
    "pycharm": {
     "name": "#%%\n"
    }
   }
  },
  {
   "cell_type": "code",
   "execution_count": 34,
   "outputs": [
    {
     "data": {
      "text/plain": "array([[[ 5,  7],\n        [ 8,  6],\n        [13, 10]],\n\n       [[25, 33],\n        [34, 29],\n        [45, 39]]])"
     },
     "execution_count": 34,
     "metadata": {},
     "output_type": "execute_result"
    }
   ],
   "source": [
    "similarities_at_all_D_disparities"
   ],
   "metadata": {
    "collapsed": false,
    "pycharm": {
     "name": "#%%\n"
    }
   }
  },
  {
   "cell_type": "code",
   "execution_count": 35,
   "outputs": [
    {
     "data": {
      "text/plain": "array([[0, 1, 1],\n       [0, 1, 1]], dtype=int64)"
     },
     "execution_count": 35,
     "metadata": {},
     "output_type": "execute_result"
    }
   ],
   "source": [
    "predicted_disparity_map"
   ],
   "metadata": {
    "collapsed": false,
    "pycharm": {
     "name": "#%%\n"
    }
   }
  },
  {
   "cell_type": "code",
   "execution_count": 19,
   "outputs": [],
   "source": [
    "\n"
   ],
   "metadata": {
    "collapsed": false,
    "pycharm": {
     "name": "#%%\n"
    }
   }
  }
 ],
 "metadata": {
  "kernelspec": {
   "display_name": "Python 3",
   "language": "python",
   "name": "python3"
  },
  "language_info": {
   "codemirror_mode": {
    "name": "ipython",
    "version": 2
   },
   "file_extension": ".py",
   "mimetype": "text/x-python",
   "name": "python",
   "nbconvert_exporter": "python",
   "pygments_lexer": "ipython2",
   "version": "2.7.6"
  }
 },
 "nbformat": 4,
 "nbformat_minor": 0
}